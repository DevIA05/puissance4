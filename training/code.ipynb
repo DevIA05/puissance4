{
 "cells": [
  {
   "cell_type": "markdown",
   "metadata": {},
   "source": [
    "http://romain.raveaux.free.fr/document/ReinforcementLearningbyQLearningConnectFourGame.html"
   ]
  },
  {
   "cell_type": "markdown",
   "metadata": {},
   "source": [
    "# Packages "
   ]
  },
  {
   "cell_type": "code",
   "execution_count": 3,
   "metadata": {
    "tags": []
   },
   "outputs": [],
   "source": [
    "import numpy as np\n",
    "import matplotlib.pyplot as plt\n",
    "%matplotlib inline"
   ]
  },
  {
   "cell_type": "markdown",
   "metadata": {},
   "source": [
    "# Board"
   ]
  },
  {
   "cell_type": "code",
   "execution_count": 5,
   "metadata": {
    "tags": []
   },
   "outputs": [
    {
     "name": "stdout",
     "output_type": "stream",
     "text": [
      "M.shape= (6, 7)\n",
      "M\n",
      " [[0. 0. 0. 0. 0. 0. 0.]\n",
      " [0. 0. 0. 0. 0. 0. 0.]\n",
      " [0. 0. 0. 0. 0. 0. 0.]\n",
      " [0. 0. 0. 0. 0. 0. 0.]\n",
      " [0. 0. 0. 0. 0. 0. 0.]\n",
      " [0. 0. 0. 0. 0. 0. 0.]]\n"
     ]
    },
    {
     "data": {
      "text/plain": [
       "<Figure size 640x480 with 0 Axes>"
      ]
     },
     "metadata": {},
     "output_type": "display_data"
    },
    {
     "data": {
      "image/png": "[encoded data removed]",
      "text/plain": [
       "<Figure size 560x480 with 1 Axes>"
      ]
     },
     "metadata": {},
     "output_type": "display_data"
    }
   ],
   "source": [
    "import numpy as np\n",
    "import matplotlib.pyplot as plt\n",
    "\n",
    "nbrows = 6\n",
    "nbcolumns = 7\n",
    "M = np.zeros((nbrows, nbcolumns))\n",
    "\n",
    "# Print the board\n",
    "print(\"M.shape=\", M.shape)\n",
    "print(\"M\\n\", M)\n",
    "\n",
    "# Plot the sticks\n",
    "fig = plt.figure(1)\n",
    "plt.matshow(M, cmap='hot')\n",
    "plt.grid(True)  # Correction ici\n",
    "plt.title(\"The board\")\n",
    "plt.show()  # N'oubliez pas d'afficher le graphique"
   ]
  },
  {
   "cell_type": "markdown",
   "metadata": {},
   "source": [
    "# Define the set of actions A, the set of agent states S and the Q table\n"
   ]
  },
  {
   "cell_type": "code",
   "execution_count": 6,
   "metadata": {
    "tags": []
   },
   "outputs": [
    {
     "name": "stdout",
     "output_type": "stream",
     "text": [
      "S.shape= (42,)\n",
      "A.shape= (7,)\n",
      "Q1.shape= (42, 7)\n",
      "Q2.shape= (42, 7)\n"
     ]
    }
   ],
   "source": [
    "A = np.array([0,1,2,3,4,5,6])\n",
    "S =[]\n",
    "for i in range(0,nbrows*nbcolumns):\n",
    "    S.append(i)\n",
    "S=np.array(S)\n",
    "print(\"S.shape=\",S.shape)\n",
    "print(\"A.shape=\",A.shape)\n",
    "Q1=np.zeros((S.shape[0],A.shape[0]))\n",
    "Q2=np.zeros((S.shape[0],A.shape[0]))\n",
    "print(\"Q1.shape=\",Q1.shape)\n",
    "print(\"Q2.shape=\",Q2.shape)"
   ]
  },
  {
   "cell_type": "markdown",
   "metadata": {},
   "source": [
    "# The board states"
   ]
  },
  {
   "cell_type": "code",
   "execution_count": 8,
   "metadata": {
    "tags": []
   },
   "outputs": [],
   "source": [
    "def CreateBoardStates(nbrows,nbcolumns):\n",
    "    \n",
    "    #boardstate is a list where all (x,y) are stored. The order is row major. It means that each line is concatainated.\n",
    "    boardstate=[]\n",
    "    count=0\n",
    "    for y in range(nbrows):\n",
    "        for x in range(nbcolumns):\n",
    "            boardstate.append((x,y))\n",
    "    return boardstate"
   ]
  },
  {
   "cell_type": "code",
   "execution_count": 9,
   "metadata": {
    "tags": []
   },
   "outputs": [
    {
     "name": "stdout",
     "output_type": "stream",
     "text": [
      "len(boardstate)= 42\n",
      "boardstate\n",
      " [(0, 0), (1, 0), (2, 0), (3, 0), (4, 0)]\n"
     ]
    }
   ],
   "source": [
    "boardstate=CreateBoardStates(nbrows,nbcolumns)\n",
    "print(\"len(boardstate)=\",len(boardstate))\n",
    "print(\"boardstate\\n\",boardstate[0:5])"
   ]
  },
  {
   "cell_type": "markdown",
   "metadata": {},
   "source": [
    "# Define a function that can give the coordonnates (x,y) in function of the state"
   ]
  },
  {
   "cell_type": "code",
   "execution_count": null,
   "metadata": {},
   "outputs": [],
   "source": []
  }
 ],
 "metadata": {
  "kernelspec": {
   "display_name": ".venv",
   "language": "python",
   "name": ".venv"
  },
  "language_info": {
   "codemirror_mode": {
    "name": "ipython",
    "version": 3
   },
   "file_extension": ".py",
   "mimetype": "text/x-python",
   "name": "python",
   "nbconvert_exporter": "python",
   "pygments_lexer": "ipython3",
   "version": "3.11.3"
  }
 },
 "nbformat": 4,
 "nbformat_minor": 4
}
